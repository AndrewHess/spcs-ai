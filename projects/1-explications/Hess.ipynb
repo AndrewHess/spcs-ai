{
 "cells": [
  {
   "cell_type": "markdown",
   "metadata": {
    "collapsed": true
   },
   "source": [
    "One exciting aspect of Artificial Intelligence is trying to recreate an animal's brain with a computer. One project that is doing research in this area is the Blue Brain Project, which is headed by Henry Markram and directed by both Felix Schurmann and Sean Hill. Unlike many similar projects, central concept of the project is that the neural networks created in this one are purposefully very similar to biological neurons, and therefore more realistic than other approaches. Initially, the goal was to make a computer that represented the neocortical column of a rat. This was achieved in 2006 just one year after the project began, showing that future research in mimicking a human brain shows much promise. Additionally, team of researchers hope to make a representation of a human brain by 2023. This project would both thrust Artificial Intelligence to a new level and reveal much more about how the brain works. However, the research should proceed with caution because if a malicious user were able to control the system, they may be able to use it to lie, damage reputations, and otherwise hurt individuals and corporations. Once the product is released, it could be used by anyone who can afford it because it could adapt quickly to different situations and therefore be used to do a multitude of jobs."
   ]
  }
 ],
 "metadata": {
  "anaconda-cloud": {},
  "kernelspec": {
   "display_name": "Python [Root]",
   "language": "python",
   "name": "Python [Root]"
  },
  "language_info": {
   "codemirror_mode": {
    "name": "ipython",
    "version": 3
   },
   "file_extension": ".py",
   "mimetype": "text/x-python",
   "name": "python",
   "nbconvert_exporter": "python",
   "pygments_lexer": "ipython3",
   "version": "3.5.2"
  }
 },
 "nbformat": 4,
 "nbformat_minor": 0
}
