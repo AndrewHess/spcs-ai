{
 "cells": [
  {
   "cell_type": "markdown",
   "metadata": {},
   "source": [
    "Hello, I am Andrew Hess. As far as programming goes, I took a introductory class during 9th grade, taught myself some java in 10th grade, and took the AP Computer Science A test in 11th grade. Through this course, I hope to learn about machine learning so I can implement it in some of the programs I have or will write. Aside from programming, I enjoy playing ultimate frisbee and playing the piano and guitar."
   ]
  },
  {
   "cell_type": "code",
   "execution_count": 52,
   "metadata": {
    "collapsed": false
   },
   "outputs": [
    {
     "name": "stdout",
     "output_type": "stream",
     "text": [
      "Andrew Hess Andrew Hess\n",
      "ndrew Hess Andrew Hess\n",
      "drew Hess Andrew Hess\n",
      "rew Hess Andrew Hess\n",
      "ew Hess Andrew Hess\n",
      "w Hess Andrew Hess\n",
      " Hess Andrew Hess\n",
      "Hess Andrew Hess\n",
      "ess Andrew Hess\n",
      "ss Andrew Hess\n",
      "s Andrew Hess\n"
     ]
    }
   ],
   "source": [
    "name = \"Andrew Hess\"\n",
    "\n",
    "for i in range (0, len(name)): {\n",
    "    print(name[i:], name)\n",
    "}"
   ]
  }
 ],
 "metadata": {
  "kernelspec": {
   "display_name": "Python [Root]",
   "language": "python",
   "name": "Python [Root]"
  },
  "language_info": {
   "codemirror_mode": {
    "name": "ipython",
    "version": 3
   },
   "file_extension": ".py",
   "mimetype": "text/x-python",
   "name": "python",
   "nbconvert_exporter": "python",
   "pygments_lexer": "ipython3",
   "version": "3.5.2"
  }
 },
 "nbformat": 4,
 "nbformat_minor": 0
}
